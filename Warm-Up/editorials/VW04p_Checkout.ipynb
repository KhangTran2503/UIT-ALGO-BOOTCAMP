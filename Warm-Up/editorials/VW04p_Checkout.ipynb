{
 "cells": [
  {
   "cell_type": "markdown",
   "metadata": {},
   "source": [
    "## **[VW04p_Checkout](https://khmt.uit.edu.vn/wecode/algobootcamp/assignment/4/9)**  \n",
    "### **Tóm tắt:**  \n",
    "Đoàn tàu chạy từ A sang B khoảng cách d, từ A tàu tăng vận tốc theo gia tốc $a_1$ đến một vận tốc không quá v, giữ nguyên vận tốc này trong thời gian ít nhất t và giảm vận tốc theo gia tốc $a_2$ để dừng tại B. Tính thời gian ngắn nhất để đoàn tàu đến B.  \n",
    "### **Giải:**  \n",
    "Greedy - Ưu tiên việc đạt đến vận tốc lớn nhất có thể.  \n",
    "Tính vận tốc $v_n$ cần thiết để thời gian chạy với vận tốc không đổi đúng bằng t. Có 2 TH:  \n",
    "  Nếu $v_n$ > v. Ta sẽ tính thời gian với vận tốc v.  \n",
    "  Ngược lại, tính thời gian với vận tốc $v_n$.  \n",
    "### **Chứng minh:**  \n",
    "Phương trình thời gian T trên vận tốc V:\n",
    "$$ T = t_1 + t_2 + \\frac{d - (\\frac{1}{2}a_1t_1^2)) - (-\\frac{1}{2}a_2t_2^2 + Vt_2)}{V} (*)$$\n",
    "Với $t_1$ là thời gian vận tốc tăng từ 0 lên V theo gia tốc $a_1$, $t_2$ là thời gian vận tốc giảm từ V về 0 theo gia tốc $a_2$.\n",
    "Thế $t_1=\\frac{V}{a_1}$ và $t_2=\\frac{V}{a_2}$ vào (*):\n",
    "$$ T = \\frac{V}{a_1} + \\frac{V}{a_2} + \\frac{d - \\frac{V^2}{2a_1} - \\frac{V^2}{2a_2}}{V} $$\n",
    "$$ T = \\frac{V}{2a_1} + \\frac{V}{2a_2} + \\frac{d}{V} $$\n",
    "Ta gọi $T_c$ là thời gian vận tốc không đổi:\n",
    "$$ T_c = \\frac{d - \\frac{V^2}{2a_1} - \\frac{V^2}{2a_2}}{V} $$\n",
    "$$ T_c \\geq 0 $$\n",
    "$$ \\to d \\geq \\frac{V^2}{2a_1} + \\frac{V^2}{2a_2}\\ (**) $$\n",
    "Gọi $v_l$ và $v_h$ là 2 vận tộc thoả yêu cầu đề bài và $v_l < l_h$.  \n",
    "$T_l$, $T_h$ là thời gian tương ứng, ta cần chứng minh $T_l \\geq T_h$:\n",
    "$$ T_l - T_h = (v_h - v_l)(\\frac{d - (\\frac{v_lv_h}{2a_1}+\\frac{v_lv_h}{2a_2})}{v_lv_h}) $$\n",
    "$$ (**)\\ \\to T_l - T_h \\geq 0\\ \\text{(Điều cần chứng minh.)}$$  \n",
    "### **Độ phức tạp:** $O(c)$.\n",
    "---\n"
   ]
  },
  {
   "cell_type": "markdown",
   "metadata": {},
   "source": [
    "### **Code:**\n",
    "\n",
    "```cpp\n",
    "#include <bits/stdc++.h>\n",
    "\n",
    "using namespace std;\n",
    "\n",
    "int main() {\n",
    "    // Fast I/O\n",
    "    ios::sync_with_stdio(false), cin.tie(NULL), cout.tie(NULL);\n",
    "\n",
    "    double d, a1, a2, v, t;\n",
    "    cin >> d >> a1 >> a2 >> v >> t;\n",
    "\n",
    "    double a = double(1) / 2 / a1 + double(1) / 2 / a2;\n",
    "    double delta = t * t + a * d * 4;\n",
    "\n",
    "    double x = (-t + sqrt(delta)) / 2 / a;\n",
    "    double result;\n",
    "    if (x < v) {\n",
    "        result = x / a1 + t + x / a2;\n",
    "    } else {\n",
    "        t = (d - v * v / 2 / a1 - v * v / 2 / a2) / v;\n",
    "        result = v / a1 + t + v / a2;\n",
    "    }\n",
    "\n",
    "    cout << fixed << setprecision(12) << result << '\\n';\n",
    "\n",
    "    return 0;\n",
    "}\n",
    "```"
   ]
  }
 ],
 "metadata": {
  "kernelspec": {
   "display_name": "Python 3",
   "language": "python",
   "name": "python3"
  },
  "language_info": {
   "codemirror_mode": {
    "name": "ipython",
    "version": 3
   },
   "file_extension": ".py",
   "mimetype": "text/x-python",
   "name": "python",
   "nbconvert_exporter": "python",
   "pygments_lexer": "ipython3",
   "version": "3.8.5"
  },
  "metadata": {
   "interpreter": {
    "hash": "31f2aee4e71d21fbe5cf8b01ff0e069b9275f58929596ceb00d14d90e3e16cd6"
   }
  }
 },
 "nbformat": 4,
 "nbformat_minor": 2
}