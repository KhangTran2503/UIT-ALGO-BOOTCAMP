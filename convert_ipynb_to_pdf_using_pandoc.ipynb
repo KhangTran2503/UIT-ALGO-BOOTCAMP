{
  "nbformat": 4,
  "nbformat_minor": 0,
  "metadata": {
    "colab": {
      "name": "convert_ipynb_to_pdf_using_pandoc.ipynb",
      "provenance": [],
      "toc_visible": true,
      "authorship_tag": "ABX9TyMjT/YByKM8lTJy5/2REvly",
      "include_colab_link": true
    },
    "kernelspec": {
      "name": "python3",
      "display_name": "Python 3"
    },
    "language_info": {
      "name": "python"
    }
  },
  "cells": [
    {
      "cell_type": "markdown",
      "metadata": {
        "id": "view-in-github",
        "colab_type": "text"
      },
      "source": [
        "<a href=\"https://colab.research.google.com/github/avnyu/UIT-ALGO-BOOTCAMP/blob/main/convert_ipynb_to_pdf_using_pandoc.ipynb\" target=\"_parent\"><img src=\"https://colab.research.google.com/assets/colab-badge.svg\" alt=\"Open In Colab\"/></a>"
      ]
    },
    {
      "cell_type": "markdown",
      "metadata": {
        "id": "7Hhnjq4t6bWP"
      },
      "source": [
        "## Cách chuyển đổi từ ipynb sang pdf bằng pandoc (terminal)\n",
        "\n",
        "Tải notebook  \n",
        "Các bạn có thể tải ngay trên google colab hoặc thông qua id của notebook. Với link https://colab.research.google.com/drive/1aon7XWvOioSuhki2veS5EZlbDitBmxOH?usp=sharing#scrollTo=3CV9H0nTSfxP thì id là 1aon7XWvOioSuhki2veS5EZlbDitBmxOH\n",
        "```\n",
        "wget -O <file ipynb> 'https://docs.google.com/uc?export=download&id=<id file notebook>'\n",
        "```\n",
        "Tải pandoc và texlive\n",
        "```\n",
        "sudo apt update  \n",
        "sudo apt install -y pandoc texlive-xetex texlive-fonts-recommended\n",
        "```\n",
        "Tải jupyter\n",
        "```\n",
        "sudo apt install python3-pip\n",
        "pip3 install jupyter\n",
        "```\n",
        "Xuất ra pdf từ ipynb  \n",
        "```\n",
        "jupyter nbconvert --to=pdf <file ipynb>\n",
        "```\n",
        "Khi thử chạy trên colab thì colab vẫn sử dụng ubuntu 18.04, pandoc và texlive là phiên bản cũ, khi xuất ra được file pdf với file notebook trong link ví dụ trên thì bị lỗi font tiếng việt nên không khuyến khích sử dụng colab hoặc bản ubuntu/linux cũ."
      ]
    }
  ]
}