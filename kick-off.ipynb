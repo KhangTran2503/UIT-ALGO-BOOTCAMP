{
  "nbformat": 4,
  "nbformat_minor": 0,
  "metadata": {
    "colab": {
      "name": "Untitled0.ipynb",
      "provenance": [],
      "authorship_tag": "ABX9TyOn5VWzbQh9g5940SYOu4jL",
      "include_colab_link": true
    },
    "kernelspec": {
      "name": "python3",
      "display_name": "Python 3"
    },
    "language_info": {
      "name": "python"
    }
  },
  "cells": [
    {
      "cell_type": "markdown",
      "metadata": {
        "id": "view-in-github",
        "colab_type": "text"
      },
      "source": [
        "<a href=\"https://colab.research.google.com/github/avnyu/UIT-ALGO-BOOTCAMP/blob/main/kick-off.ipynb\" target=\"_parent\"><img src=\"https://colab.research.google.com/assets/colab-badge.svg\" alt=\"Open In Colab\"/></a>"
      ]
    },
    {
      "cell_type": "markdown",
      "metadata": {
        "id": "xMrEk1UcGb5W"
      },
      "source": [
        "# **[Hidden Word](https://khmt.uit.edu.vn/wecode/algobootcamp/practice/show/88)**\n",
        "## 1. Tóm tắt\n",
        "Cho bảng chữ cái $(n*m)$. Xác định với mỗi từ được cho có tồn tại trong bảng hây không (theo hàng và cột).\n",
        "## 2. Giải\n",
        "### 2.1. Bruteforce - $O(n * m * k * 10)$:\n",
        "Với mỗi từ, kiểu tra trên bảng theo hàng ngang và dọc.\n",
        "### 2.2. Hash - Thời gian: $O(n * m * 10)$ - Bộ nhớ $O(n * m * 10)$:\n",
        "Với độ dài 10 và 26 ký tự khác biệt, ta có thể coi 1 từ như một số có cơ số 26 và độ dài nhiều nhất là 10 (~ $26^{10}$ số khác nhau). Từ đó tính trước tất cả từ có thể tồn tại và sau đó kiểm tra với mỗi từ được cho.\n",
        "### 2.3. Nhận xét thêm - $O(n * m * 10)$ - Bộ nhớ $O(n * m)$:\n",
        "Thay vì ta tính với tất cả độ dài, ta tính với số có độ dài 10 trước, sau đó tính số độ dài 9 bằng cách bỏ đi chữ số đầu hoặc chữ số đuôi, cũng như xoá đi các số đã được tính trước đó, giảm bớt bộ nhớ cần. Khi kiểm tra, ta cũng chia các từ cần kiểm tra theo độ dài.\n",
        "### 3. Code python 3:\n",
        ">```python\n",
        ">from sys import stdin, stdout\n",
        ">import math\n",
        ">\n",
        ">\n",
        ">def read(): return stdin.readline().strip()\n",
        ">def read_int(): return map(int, read().split())\n",
        ">def write(s): stdout.write(s)\n",
        ">\n",
        ">\n",
        ">n, m, q = read_int()\n",
        ">a = [read() for _ in range(n)]\n",
        ">b = [set() for _ in range(11)]\n",
        ">\n",
        ">h = min(10, n)\n",
        ">v = min(10, m)\n",
        ">\n",
        ">for j in range(m):\n",
        ">    cur = 0\n",
        ">    for i in range(h):\n",
        ">        cur = 26 * cur + ord(a[i][j]) - 97\n",
        ">    b[h].add(cur)\n",
        ">    for i in range(h, n):\n",
        ">        cur = cur * 26 % (26 ** h) + ord(a[i][j]) - 97\n",
        ">        b[h].add(cur)\n",
        ">\n",
        ">for i in range(n):\n",
        ">    cur = 0\n",
        ">    for j in range(v):\n",
        ">        cur = 26 * cur + ord(a[i][j]) - 97\n",
        ">    b[v].add(cur)\n",
        ">    for j in range(v, m):\n",
        ">        cur = cur * 26 % (26 ** v) + ord(a[i][j]) - 97\n",
        ">        b[v].add(cur)\n",
        ">\n",
        ">s = [[] for _ in range(11)]\n",
        ">for i in range(q):\n",
        ">    t = read()\n",
        ">    cur = 0\n",
        ">    for c in t:\n",
        ">        cur = 26 * cur + ord(c) - 97\n",
        ">    s[len(t)].append((cur, i))\n",
        ">\n",
        ">res = ['0' for _ in range(q)]\n",
        ">for i in reversed(range(11)):\n",
        ">    for t, p in s[i]:\n",
        ">        if t in b[i]:\n",
        ">            res[p] = '1'\n",
        ">        else:\n",
        ">            res[p] = '0'\n",
        ">\n",
        ">    if i > 1:\n",
        ">        for c in b[i]:\n",
        ">            b[i - 1].add(c // 26)\n",
        ">            b[i - 1].add(c % (26 ** (i - 1)))\n",
        ">        b[i].clear()\n",
        ">\n",
        ">write(''.join(res) + '\\n')\n",
        ">```\n",
        "# **[True Expression](https://khmt.uit.edu.vn/wecode/algobootcamp/practice/show/89)**\n",
        "## 1. Tóm tắt:\n",
        "Cho dãy N số từ 1 đến N và số nguyên dương S. Hãy thêm dấu \"+\" hoặc \"-\" trước mỗi số để biểu thức được tạo ra có kết quả là S.\n",
        "## 2. Giải:\n",
        "Xét một bài toán tương đương là chọn các số từ 1 đến N để tổng là S. Ta sẽ luôn có cách chọn nếu $0 \\leq S \\leq \\frac{N * (N + 1)}{2}$. Gọi $S_2$ là các số không được chọn, thì $S = \\frac{N * (N + 1)}{2} - S_2$. Ở bài này, thay vì không chọn, ta trừ các số không được chọn, nghĩa là $S = \\frac{N * (N + 1)}{2} - 2 * S_2$"
      ]
    }
  ]
}