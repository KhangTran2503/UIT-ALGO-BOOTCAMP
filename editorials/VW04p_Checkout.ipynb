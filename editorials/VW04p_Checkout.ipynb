{
 "metadata": {
  "orig_nbformat": 2,
  "kernelspec": {
   "name": "python3",
   "display_name": "Python 3",
   "language": "python"
  }
 },
 "nbformat": 4,
 "nbformat_minor": 2,
 "cells": [
  {
   "source": [
    "VW04p_Checkout  \n",
    "Link: https://khmt.uit.edu.vn/wecode/algobootcamp/assignment/4/9  \n",
    "Tóm tắt: Đoàn tàu chạy từ A sang B khoảng cách d, từ A tàu tăng vận tốc theo gia tốc $a_1$ đến một vận tốc không quá v, giữ nguyên vận tốc này trong thời gian ít nhất t và giảm vận tốc theo gia tốc $a_2$ để dừng tại B. Tính thời gian ngắn nhất để đoàn tàu đến B.  \n",
    "Giải:  \n",
    "Greedy - Ưu tiên việc đạt đến vận tốc lớn nhất có thể.  \n",
    "Tính vận tốc v<sub>need</sub> cần thiết để thời gian chạy với vận tốc không đổi đúng bằng t. Có 2 TH:  \n",
    "    - Nếu v<sub>need</sub> > v. Ta sẽ tính thời gian với vận tốc v.  \n",
    "    - Ngược lại, tính thời gian với vận tốc v<sub>need</sub>.  \n",
    "Chứng minh:\n",
    "Phương trình thời gian T trên vận tốc V:\n",
    "$$ T = t_1 + t_2 + \\frac{d - (\\frac{1}{2}a_1t_1^2)) - (-\\frac{1}{2}a_2t_2^2 + Vt_2)}{V} (*)$$\n",
    "Với $t_1$ là thời gian vận tốc tăng từ 0 lên V theo gia tốc $a_1$, $t_2$ là thời gian vận tốc giảm từ V về 0 theo gia tốc $a_2$.\n",
    "Thế $t_1=\\frac{V}{a_1}$ và $t_2=\\frac{V}{a_2}$ vào (*):\n",
    "$$ T = \\frac{V}{a_1} + \\frac{V}{a_2} + \\frac{d - \\frac{V^2}{2a_1} - \\frac{V^2}{2a_2}}{V} $$\n",
    "$$ T = \\frac{V}{2a_1} + \\frac{V}{2a_2} + \\frac{d}{V} $$\n",
    "Ta gọi $T_c$ là thời gian vận tốc không đổi:\n",
    "$$ T_c = \\frac{d - \\frac{V^2}{2a_1} - \\frac{V^2}{2a_2}}{V} $$\n",
    "$$ T_c \\geq 0 $$\n",
    "$$ \\to d \\geq \\frac{V^2}{2a_1} + \\frac{V^2}{2a_2}\\ (**) $$\n",
    "Gọi $v_l$ và $v_h$ là 2 vận tộc thoả yêu cầu đề bài và $v_l < l_h$.  \n",
    "$T_l$, $T_h$ là thời gian tương ứng, ta cần chứng minh $T_l \\geq T_h$:\n",
    "$$ T_l - T_h = (v_h - v_l)(\\frac{d - (\\frac{v_lv_h}{2a_1}+\\frac{v_lv_h}{2a_2})}{v_lv_h}) $$\n",
    "$$ (**)\\ \\to T_l - T_h \\geq 0\\ \\text{(Điều cần chứng minh.)}$$  \n",
    "Độ phức tạp: O(c).  \n",
    "Code:"
   ],
   "cell_type": "markdown",
   "metadata": {}
  },
  {
   "cell_type": "code",
   "execution_count": 1,
   "metadata": {},
   "outputs": [
    {
     "output_type": "stream",
     "text": [
      "\u001b[0;31m#include <bits/stdc++.h>\u001b[0m\u001b[0;34m\u001b[0m\n",
      "\u001b[0;34m\u001b[0m\u001b[0;34m\u001b[0m\n",
      "\u001b[0;34m\u001b[0m\u001b[0musing\u001b[0m \u001b[0mnamespace\u001b[0m \u001b[0mstd\u001b[0m\u001b[0;34m;\u001b[0m\u001b[0;34m\u001b[0m\n",
      "\u001b[0;34m\u001b[0m\u001b[0;34m\u001b[0m\n",
      "\u001b[0;34m\u001b[0m\u001b[0mint\u001b[0m \u001b[0mmain\u001b[0m\u001b[0;34m(\u001b[0m\u001b[0;34m)\u001b[0m \u001b[0;34m{\u001b[0m\u001b[0;34m\u001b[0m\n",
      "\u001b[0;34m\u001b[0m    \u001b[0;34m//\u001b[0m \u001b[0mFast\u001b[0m \u001b[0mI\u001b[0m\u001b[0;34m/\u001b[0m\u001b[0mO\u001b[0m\u001b[0;34m\u001b[0m\n",
      "\u001b[0;34m\u001b[0m    \u001b[0mios\u001b[0m\u001b[0;34m:\u001b[0m\u001b[0;34m:\u001b[0m\u001b[0msync_with_stdio\u001b[0m\u001b[0;34m(\u001b[0m\u001b[0mfalse\u001b[0m\u001b[0;34m)\u001b[0m\u001b[0;34m,\u001b[0m \u001b[0mcin\u001b[0m\u001b[0;34m.\u001b[0m\u001b[0mtie\u001b[0m\u001b[0;34m(\u001b[0m\u001b[0mNULL\u001b[0m\u001b[0;34m)\u001b[0m\u001b[0;34m,\u001b[0m \u001b[0mcout\u001b[0m\u001b[0;34m.\u001b[0m\u001b[0mtie\u001b[0m\u001b[0;34m(\u001b[0m\u001b[0mNULL\u001b[0m\u001b[0;34m)\u001b[0m\u001b[0;34m;\u001b[0m\u001b[0;34m\u001b[0m\n",
      "\u001b[0;34m\u001b[0m\u001b[0;34m\u001b[0m\n",
      "\u001b[0;34m\u001b[0m    \u001b[0mdouble\u001b[0m \u001b[0md\u001b[0m\u001b[0;34m,\u001b[0m \u001b[0ma1\u001b[0m\u001b[0;34m,\u001b[0m \u001b[0ma2\u001b[0m\u001b[0;34m,\u001b[0m \u001b[0mv\u001b[0m\u001b[0;34m,\u001b[0m \u001b[0mt\u001b[0m\u001b[0;34m;\u001b[0m\u001b[0;34m\u001b[0m\n",
      "\u001b[0;34m\u001b[0m    \u001b[0mcin\u001b[0m \u001b[0;34m>>\u001b[0m \u001b[0md\u001b[0m \u001b[0;34m>>\u001b[0m \u001b[0ma1\u001b[0m \u001b[0;34m>>\u001b[0m \u001b[0ma2\u001b[0m \u001b[0;34m>>\u001b[0m \u001b[0mv\u001b[0m \u001b[0;34m>>\u001b[0m \u001b[0mt\u001b[0m\u001b[0;34m;\u001b[0m\u001b[0;34m\u001b[0m\n",
      "\u001b[0;34m\u001b[0m\u001b[0;34m\u001b[0m\n",
      "\u001b[0;34m\u001b[0m    \u001b[0mdouble\u001b[0m \u001b[0ma\u001b[0m \u001b[0;34m=\u001b[0m \u001b[0mdouble\u001b[0m\u001b[0;34m(\u001b[0m\u001b[0;36m1\u001b[0m\u001b[0;34m)\u001b[0m \u001b[0;34m/\u001b[0m \u001b[0;36m2\u001b[0m \u001b[0;34m/\u001b[0m \u001b[0ma1\u001b[0m \u001b[0;34m+\u001b[0m \u001b[0mdouble\u001b[0m\u001b[0;34m(\u001b[0m\u001b[0;36m1\u001b[0m\u001b[0;34m)\u001b[0m \u001b[0;34m/\u001b[0m \u001b[0;36m2\u001b[0m \u001b[0;34m/\u001b[0m \u001b[0ma2\u001b[0m\u001b[0;34m;\u001b[0m\u001b[0;34m\u001b[0m\n",
      "\u001b[0;34m\u001b[0m    \u001b[0mdouble\u001b[0m \u001b[0mdelta\u001b[0m \u001b[0;34m=\u001b[0m \u001b[0mt\u001b[0m \u001b[0;34m*\u001b[0m \u001b[0mt\u001b[0m \u001b[0;34m+\u001b[0m \u001b[0ma\u001b[0m \u001b[0;34m*\u001b[0m \u001b[0md\u001b[0m \u001b[0;34m*\u001b[0m \u001b[0;36m4\u001b[0m\u001b[0;34m;\u001b[0m\u001b[0;34m\u001b[0m\n",
      "\u001b[0;34m\u001b[0m\u001b[0;34m\u001b[0m\n",
      "\u001b[0;34m\u001b[0m    \u001b[0mdouble\u001b[0m \u001b[0mx\u001b[0m \u001b[0;34m=\u001b[0m \u001b[0;34m(\u001b[0m\u001b[0;34m-\u001b[0m\u001b[0mt\u001b[0m \u001b[0;34m+\u001b[0m \u001b[0msqrt\u001b[0m\u001b[0;34m(\u001b[0m\u001b[0mdelta\u001b[0m\u001b[0;34m)\u001b[0m\u001b[0;34m)\u001b[0m \u001b[0;34m/\u001b[0m \u001b[0;36m2\u001b[0m \u001b[0;34m/\u001b[0m \u001b[0ma\u001b[0m\u001b[0;34m;\u001b[0m\u001b[0;34m\u001b[0m\n",
      "\u001b[0;34m\u001b[0m    \u001b[0mdouble\u001b[0m \u001b[0mresult\u001b[0m\u001b[0;34m;\u001b[0m\u001b[0;34m\u001b[0m\n",
      "\u001b[0;34m\u001b[0m    \u001b[0;32mif\u001b[0m \u001b[0;34m(\u001b[0m\u001b[0mx\u001b[0m \u001b[0;34m<\u001b[0m \u001b[0mv\u001b[0m\u001b[0;34m)\u001b[0m \u001b[0;34m{\u001b[0m\u001b[0;34m\u001b[0m\n",
      "\u001b[0;34m\u001b[0m        \u001b[0mresult\u001b[0m \u001b[0;34m=\u001b[0m \u001b[0mx\u001b[0m \u001b[0;34m/\u001b[0m \u001b[0ma1\u001b[0m \u001b[0;34m+\u001b[0m \u001b[0mt\u001b[0m \u001b[0;34m+\u001b[0m \u001b[0mx\u001b[0m \u001b[0;34m/\u001b[0m \u001b[0ma2\u001b[0m\u001b[0;34m;\u001b[0m\u001b[0;34m\u001b[0m\n",
      "\u001b[0;34m\u001b[0m    \u001b[0;34m}\u001b[0m \u001b[0;32melse\u001b[0m \u001b[0;34m{\u001b[0m\u001b[0;34m\u001b[0m\n",
      "\u001b[0;34m\u001b[0m        \u001b[0mt\u001b[0m \u001b[0;34m=\u001b[0m \u001b[0;34m(\u001b[0m\u001b[0md\u001b[0m \u001b[0;34m-\u001b[0m \u001b[0mv\u001b[0m \u001b[0;34m*\u001b[0m \u001b[0mv\u001b[0m \u001b[0;34m/\u001b[0m \u001b[0;36m2\u001b[0m \u001b[0;34m/\u001b[0m \u001b[0ma1\u001b[0m \u001b[0;34m-\u001b[0m \u001b[0mv\u001b[0m \u001b[0;34m*\u001b[0m \u001b[0mv\u001b[0m \u001b[0;34m/\u001b[0m \u001b[0;36m2\u001b[0m \u001b[0;34m/\u001b[0m \u001b[0ma2\u001b[0m\u001b[0;34m)\u001b[0m \u001b[0;34m/\u001b[0m \u001b[0mv\u001b[0m\u001b[0;34m;\u001b[0m\u001b[0;34m\u001b[0m\n",
      "\u001b[0;34m\u001b[0m        \u001b[0mresult\u001b[0m \u001b[0;34m=\u001b[0m \u001b[0mv\u001b[0m \u001b[0;34m/\u001b[0m \u001b[0ma1\u001b[0m \u001b[0;34m+\u001b[0m \u001b[0mt\u001b[0m \u001b[0;34m+\u001b[0m \u001b[0mv\u001b[0m \u001b[0;34m/\u001b[0m \u001b[0ma2\u001b[0m\u001b[0;34m;\u001b[0m\u001b[0;34m\u001b[0m\n",
      "\u001b[0;34m\u001b[0m    \u001b[0;34m}\u001b[0m\u001b[0;34m\u001b[0m\n",
      "\u001b[0;34m\u001b[0m\u001b[0;34m\u001b[0m\n",
      "\u001b[0;34m\u001b[0m    \u001b[0mcout\u001b[0m \u001b[0;34m<<\u001b[0m \u001b[0mfixed\u001b[0m \u001b[0;34m<<\u001b[0m \u001b[0msetprecision\u001b[0m\u001b[0;34m(\u001b[0m\u001b[0;36m12\u001b[0m\u001b[0;34m)\u001b[0m \u001b[0;34m<<\u001b[0m \u001b[0mresult\u001b[0m \u001b[0;34m<<\u001b[0m \u001b[0;34m'\\n'\u001b[0m\u001b[0;34m;\u001b[0m\u001b[0;34m\u001b[0m\n",
      "\u001b[0;34m\u001b[0m\u001b[0;34m\u001b[0m\n",
      "\u001b[0;34m\u001b[0m    \u001b[0;32mreturn\u001b[0m \u001b[0;36m0\u001b[0m\u001b[0;34m;\u001b[0m\u001b[0;34m\u001b[0m\n",
      "\u001b[0;34m\u001b[0m\u001b[0;34m}\u001b[0m\u001b[0;34m\u001b[0m\u001b[0;34m\u001b[0m\u001b[0m\n"
     ],
     "name": "stdout"
    }
   ],
   "source": [
    "%pycat ../code/VW04p_Checkout.cpp"
   ]
  }
 ]
}