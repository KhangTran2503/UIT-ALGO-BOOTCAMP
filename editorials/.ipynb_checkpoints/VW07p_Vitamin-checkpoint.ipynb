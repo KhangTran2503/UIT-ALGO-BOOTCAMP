{
 "cells": [
  {
   "cell_type": "markdown",
   "metadata": {},
   "source": [
    "## **[VW07p_Vitamin](https://khmt.uit.edu.vn/wecode/algobootcamp/assignment/4/10)**\n",
    "\n",
    "### **Tóm tắt:** \n",
    "Cho mảng A có thể kéo dài:\n",
    "$$A_1,A_2,A_3 \\dots A_n,A_n,A_n \\dots(1 \\leq A_i \\leq 1000,\\ i = 1 \\div n)$$\n",
    "Tìm độ dài ngắn nhất của mảng B tạo từ các prefix của mảng A (các prefix cách nhau bởi số 0) có tổng là x.  \n",
    "\n",
    "### **Giải:**\n",
    "Dynamic Programming - Gọi dp\\[i\\] là độ dài ngắn nhất của mảng B với tổng là i, với trường hợp prefix A có độ dài không quá n:\n",
    "$$dp[i] = min(dp[i-\\text{prefix_sum_of_A[0..j]}+1+j];\\ j = 1 \\div n)$$\n",
    "Trường hợp tồn tại prefix A có độ dài lớn hơn n:\n",
    "$$\\forall i=0 \\div x,\\ \\exists k>n: i + \\text{prefix_sum_of_A[0..k]} == x \\to dp[x] = min(dp[x],\\ dp[i] + 1 + k)$$\n",
    "\n",
    "### **Độ phức tạp:** $O(xn)$.\n",
    "---\n",
    "### **Code:**\n",
    "\n",
    "```cpp\n",
    "#include <bits/stdc++.h>\n",
    "\n",
    "using namespace std;\n",
    "\n",
    "int main() {\n",
    "    // Fast I/O\n",
    "    ios::sync_with_stdio(false), cin.tie(NULL), cout.tie(NULL);\n",
    "\n",
    "    int n, x;\n",
    "    cin >> n >> x;\n",
    "    vector<int> a(n);\n",
    "    for (int i = 0; i < n; ++i) cin >> a[i];\n",
    "\n",
    "    vector<int> prefix_sum(n);\n",
    "    partial_sum(a.begin(), a.end(), prefix_sum.begin());\n",
    "\n",
    "    const int MAX = 1e9 + 7;\n",
    "    vector<int> dp(x + 1, MAX);\n",
    "    dp[0] = 0;\n",
    "\n",
    "    for (int i = 0; i <= x; ++i)\n",
    "        for (int j = 0; j < n; ++j)\n",
    "            if (i >= prefix_sum[j]) {\n",
    "                dp[i] = min(dp[i], dp[i - prefix_sum[j]] + j + 2);\n",
    "            }\n",
    "\n",
    "    for (int i = 0; i <= x; ++i)\n",
    "        if (x - i >= prefix_sum[n - 1] &&\n",
    "            (x - i - prefix_sum[n - 1]) % a[n - 1] == 0)\n",
    "            dp[x] = min(\n",
    "                dp[x], dp[i] + n + 1 + (x - i - prefix_sum[n - 1]) / a[n - 1]);\n",
    "\n",
    "    cout << (dp[x] == MAX ? -1 : dp[x] - 1) << '\\n';\n",
    "\n",
    "    return 0;\n",
    "}\n",
    "```"
   ]
  },
  {
   "cell_type": "code",
   "execution_count": null,
   "metadata": {},
   "outputs": [],
   "source": [
    "Tests;;;;;"
   ]
  }
 ],
 "metadata": {
  "kernelspec": {
   "display_name": "Python 3",
   "language": "python",
   "name": "python3"
  },
  "language_info": {
   "codemirror_mode": {
    "name": "ipython",
    "version": 3
   },
   "file_extension": ".py",
   "mimetype": "text/x-python",
   "name": "python",
   "nbconvert_exporter": "python",
   "pygments_lexer": "ipython3",
   "version": "3.8.5"
  },
  "metadata": {
   "interpreter": {
    "hash": "31f2aee4e71d21fbe5cf8b01ff0e069b9275f58929596ceb00d14d90e3e16cd6"
   }
  }
 },
 "nbformat": 4,
 "nbformat_minor": 2
}
